{
 "cells": [
  {
   "cell_type": "markdown",
   "metadata": {},
   "source": [
    "使用 Google Colab 可以簡化操作，因為它已經內建了 Google Drive 整合，且方便執行 AWS S3 操作\n",
    "\n",
    "使用說明\n",
    "\t1.\t填寫 AWS 憑證：\n",
    "\t•\t將 YOUR_AWS_ACCESS_KEY_ID 替換為你的 AWS Access Key。\n",
    "\t•\t將 YOUR_AWS_SECRET_ACCESS_KEY 替換為你的 AWS Secret Key。\n",
    "\t•\t將 YOUR_AWS_REGION 替換為你的 AWS 區域（如 us-east-1）。\n",
    "\t修改 S3 bucket 名稱\n",
    "\n",
    "\t2.\t運行腳本：\n",
    "\t•\t複製腳本到 Colab。\n",
    "\t•\t按順序執行每個區塊。\n",
    "    \n",
    "\t3.\t檢查結果：\n",
    "\t•\t執行最後一個區塊，檢查文件是否已成功同步到 Google Drive。\n",
    "\t•\t在 Google Drive 中，你會在 MyDrive/s3_backup 文件夾中找到同步的文件。"
   ]
  },
  {
   "cell_type": "code",
   "execution_count": null,
   "metadata": {},
   "outputs": [],
   "source": [
    "# 安裝 AWS CLI\n",
    "!apt update && apt install awscli -y\n",
    "\n",
    "# 升級 urllib3 和相關模組\n",
    "!pip install --upgrade urllib3 botocore awscli\n",
    "\n",
    "# 創建目錄用於存放 S3 文件\n",
    "!mkdir -p /content/s3\n",
    "\n",
    "# 掛載 Google Drive\n",
    "from google.colab import drive\n",
    "drive.mount('/content/drive')\n",
    "\n",
    "# 設定 AWS 憑證\n",
    "import os\n",
    "os.environ['AWS_ACCESS_KEY_ID'] = 'YOUR_AWS_ACCESS_KEY_ID'\n",
    "os.environ['AWS_SECRET_ACCESS_KEY'] = 'YOUR_AWS_SECRET_ACCESS_KEY'\n",
    "os.environ['AWS_DEFAULT_REGION'] = 'YOUR_AWS_REGION'\n",
    "\n",
    "# 同步 S3 文件到本地\n",
    "!aws s3 sync s3://glproject-web/school /content/s3\n",
    "\n",
    "# 將文件移動到 Google Drive\n",
    "!cp -r /content/s3 /content/drive/MyDrive/s3_backup\n",
    "\n",
    "# 驗證是否成功\n",
    "!ls /content/drive/MyDrive/s3_backup"
   ]
  }
 ],
 "metadata": {
  "language_info": {
   "name": "python"
  }
 },
 "nbformat": 4,
 "nbformat_minor": 2
}
